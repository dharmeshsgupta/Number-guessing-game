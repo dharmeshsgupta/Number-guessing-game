{
 "cells": [
  {
   "cell_type": "code",
   "execution_count": 1,
   "id": "5b173c98-508a-463f-8b3e-5014642b3e19",
   "metadata": {},
   "outputs": [
    {
     "name": "stdin",
     "output_type": "stream",
     "text": [
      "Guess a number between1 and 100:  19\n"
     ]
    },
    {
     "name": "stdout",
     "output_type": "stream",
     "text": [
      "Too high!\n"
     ]
    },
    {
     "name": "stdin",
     "output_type": "stream",
     "text": [
      "Guess a number between1 and 100:  12\n"
     ]
    },
    {
     "name": "stdout",
     "output_type": "stream",
     "text": [
      "Too high!\n"
     ]
    },
    {
     "name": "stdin",
     "output_type": "stream",
     "text": [
      "Guess a number between1 and 100:  5\n"
     ]
    },
    {
     "name": "stdout",
     "output_type": "stream",
     "text": [
      "Too high!\n"
     ]
    },
    {
     "name": "stdin",
     "output_type": "stream",
     "text": [
      "Guess a number between1 and 100:  31\n"
     ]
    },
    {
     "name": "stdout",
     "output_type": "stream",
     "text": [
      "Too high!\n"
     ]
    },
    {
     "name": "stdin",
     "output_type": "stream",
     "text": [
      "Guess a number between1 and 100:  43\n"
     ]
    },
    {
     "name": "stdout",
     "output_type": "stream",
     "text": [
      "Too high!\n"
     ]
    },
    {
     "name": "stdin",
     "output_type": "stream",
     "text": [
      "Guess a number between1 and 100:  34\n"
     ]
    },
    {
     "name": "stdout",
     "output_type": "stream",
     "text": [
      "Too high!\n"
     ]
    },
    {
     "name": "stdin",
     "output_type": "stream",
     "text": [
      "Guess a number between1 and 100:  77\n"
     ]
    },
    {
     "name": "stdout",
     "output_type": "stream",
     "text": [
      "Too high!\n"
     ]
    },
    {
     "name": "stdin",
     "output_type": "stream",
     "text": [
      "Guess a number between1 and 100:  88\n"
     ]
    },
    {
     "name": "stdout",
     "output_type": "stream",
     "text": [
      "Too high!\n"
     ]
    },
    {
     "name": "stdin",
     "output_type": "stream",
     "text": [
      "Guess a number between1 and 100:  99\n"
     ]
    },
    {
     "name": "stdout",
     "output_type": "stream",
     "text": [
      "Congratulation! You've guessed the number 94 in 9 attempts.\n"
     ]
    }
   ],
   "source": [
    "import random\n",
    "\n",
    "lower_bound = 1\n",
    "upper_bound = 100\n",
    "max_attempts = 10\n",
    "\n",
    "secret_number = random.randint(lower_bound, upper_bound)\n",
    "\n",
    "def get_guess():\n",
    "    while True:\n",
    "        try:\n",
    "            guess = int(input(f\"Guess a number between{lower_bound} and {upper_bound}: \"))\n",
    "            if lower_bound <= guess <= upper_bound :\n",
    "                return guess \n",
    "            else:\n",
    "                print(f\"Please enter a number within the range {lower_bound} to {upper_bound}.\")\n",
    "        except ValueError:\n",
    "            print(\"invalid input. Please enter a valid number\")\n",
    "\n",
    "attempts = 0\n",
    "while attempts < max_attempts:\n",
    "    guess = get_guess()\n",
    "    attempts += 1\n",
    "    if guess < secret_number:\n",
    "        print(\"Too high!\")\n",
    "    else:\n",
    "        print(f\"Congratulation! You've guessed the number {secret_number} in {attempts} attempts.\")\n",
    "        break\n",
    "else:\n",
    "    print(f\"Sorry, you've used all {max_attempts} attempts.The secret number was {secret_number}.\")"
   ]
  },
  {
   "cell_type": "code",
   "execution_count": null,
   "id": "12973197-aab4-41fd-8223-ca0a26bb1271",
   "metadata": {},
   "outputs": [],
   "source": []
  }
 ],
 "metadata": {
  "kernelspec": {
   "display_name": "Python 3 (ipykernel)",
   "language": "python",
   "name": "python3"
  },
  "language_info": {
   "codemirror_mode": {
    "name": "ipython",
    "version": 3
   },
   "file_extension": ".py",
   "mimetype": "text/x-python",
   "name": "python",
   "nbconvert_exporter": "python",
   "pygments_lexer": "ipython3",
   "version": "3.12.4"
  }
 },
 "nbformat": 4,
 "nbformat_minor": 5
}
